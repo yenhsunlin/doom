{
 "cells": [
  {
   "cell_type": "markdown",
   "id": "85db58c2-4d86-4175-8da7-7e1ff32172b7",
   "metadata": {
    "tags": []
   },
   "source": [
    "# `doom`: **D**iffuse b**OO**sted dark **M**atter yielded from supernova neutrinos in early universe\n",
    "\n",
    "## Introduction\n",
    "\n",
    "`doom` is a package for evaluating the *diffuse* signature of dark matter boosted in the early Universe due to supernova neutrinos based on arXiv\n",
    "\n",
    "    $ ddd\n",
    "d"
   ]
  },
  {
   "cell_type": "code",
   "execution_count": 1,
   "id": "1a834279-a022-4620-8760-3ff44ea24187",
   "metadata": {
    "tags": []
   },
   "outputs": [],
   "source": [
    "import numpy as np\n",
    "import matplotlib.pyplot as plt\n",
    "import doom"
   ]
  },
  {
   "cell_type": "code",
   "execution_count": 3,
   "id": "1357a324-cc1f-48e1-bf41-b369fdf9b39f",
   "metadata": {
    "tags": []
   },
   "outputs": [
    {
     "data": {
      "text/plain": [
       "0.9998077477632912"
      ]
     },
     "execution_count": 3,
     "metadata": {},
     "output_type": "execute_result"
    }
   ],
   "source": [
    "doom.vBDM(5,0.1)"
   ]
  },
  {
   "cell_type": "code",
   "execution_count": 2,
   "id": "17cbc3a8-5262-4bd4-9e96-d2ea492366bb",
   "metadata": {
    "tags": []
   },
   "outputs": [],
   "source": [
    "file = np.load('src/bin/densityParamFit.npz')"
   ]
  },
  {
   "cell_type": "code",
   "execution_count": 12,
   "id": "d8263d80-e5c1-4461-a614-23a0b89321ee",
   "metadata": {
    "tags": []
   },
   "outputs": [],
   "source": [
    "file2 = np.load('src/bin/galcticAreaDensityFit.npz')"
   ]
  },
  {
   "cell_type": "code",
   "execution_count": 21,
   "id": "47c11035-2251-4adb-a924-e34a040bbe2f",
   "metadata": {
    "tags": []
   },
   "outputs": [],
   "source": [
    "np.savetxt('galcticAreaDensityFit.txt',file2['R'],fmt='%.3f',delimiter=\",\")"
   ]
  },
  {
   "cell_type": "code",
   "execution_count": 41,
   "id": "afaf45fa-381c-4f4f-b93a-c121ba25802a",
   "metadata": {
    "tags": []
   },
   "outputs": [],
   "source": [
    "with open(\"galcticAreaDensityFit.txt\", \"w\") as f:\n",
    "    f.write('_R_data = [')\n",
    "    for s in file2['R'].tolist():\n",
    "        f.write('{:.5e}'.format(s) +\", \")\n",
    "    f.write('] \\n\\n')\n",
    "    \n",
    "    f.write('_MG_area_data = [')\n",
    "    for s in file2['MG'].tolist():\n",
    "        f.write('{:.5e}'.format(s) +\", \")\n",
    "    f.write('] \\n\\n')\n",
    "    \n",
    "    f.write('_rho_data = [')\n",
    "    for line in file2['AreaDensity']:\n",
    "        f.write('[')\n",
    "        i = 0\n",
    "        for s in line.tolist():\n",
    "            if i != 120:\n",
    "                f.write('{:.5e}'.format(s) +\", \")\n",
    "            else:\n",
    "                f.write('{:.5e}'.format(s))\n",
    "            i+=1\n",
    "        f.write('],\\n')\n",
    "    f.write('] \\n\\n')"
   ]
  },
  {
   "cell_type": "code",
   "execution_count": 40,
   "id": "dd052f6f-3d10-4baa-897a-73115938de79",
   "metadata": {
    "tags": []
   },
   "outputs": [
    {
     "data": {
      "text/plain": [
       "121"
      ]
     },
     "execution_count": 40,
     "metadata": {},
     "output_type": "execute_result"
    }
   ],
   "source": [
    "len(file2['AreaDensity'][0])"
   ]
  },
  {
   "cell_type": "code",
   "execution_count": 23,
   "id": "baa67510-c50e-442c-a3ae-d3fad862d360",
   "metadata": {
    "tags": []
   },
   "outputs": [
    {
     "data": {
      "text/plain": [
       "'5.99e+00'"
      ]
     },
     "execution_count": 23,
     "metadata": {},
     "output_type": "execute_result"
    }
   ],
   "source": [
    "'{:.2e}'.format(5.98774)"
   ]
  },
  {
   "cell_type": "code",
   "execution_count": 6,
   "id": "db014a2c-406c-440e-b503-763f0e1d39e3",
   "metadata": {
    "tags": []
   },
   "outputs": [
    {
     "data": {
      "text/plain": [
       "array([ 8.26216754,  8.26216753,  8.26216182,  8.26216751,  8.26216751,\n",
       "        8.26216752,  8.26216752,  8.26216777,  8.26216753,  8.26216753,\n",
       "        8.26218512,  8.2636417 ,  8.2802742 ,  8.34087903,  8.46594039,\n",
       "        8.69448325,  9.07049726,  9.58230196, 10.189751  , 10.85697139,\n",
       "       11.55961711, 12.28273831])"
      ]
     },
     "execution_count": 6,
     "metadata": {},
     "output_type": "execute_result"
    }
   ],
   "source": [
    "file['Sigma0Thick']"
   ]
  },
  {
   "cell_type": "code",
   "execution_count": 7,
   "id": "86851147-856e-4deb-a8e6-6a6527368b80",
   "metadata": {
    "tags": []
   },
   "outputs": [
    {
     "data": {
      "text/plain": [
       "array([ 8.95223   ,  8.95223595,  8.95223594,  8.95223606,  8.95223595,\n",
       "        8.95223595,  8.95223589,  8.95223593,  8.95223593,  8.95223595,\n",
       "        8.95223594,  8.95223595,  8.95223596,  8.95225806,  8.95392236,\n",
       "        8.9737703 ,  9.06911746,  9.31833401,  9.73665309, 10.28418383,\n",
       "       10.9154326 , 11.59714772])"
      ]
     },
     "execution_count": 7,
     "metadata": {},
     "output_type": "execute_result"
    }
   ],
   "source": [
    "file['Sigma0Thin']"
   ]
  },
  {
   "cell_type": "code",
   "execution_count": 10,
   "id": "68e33e77-378c-421f-8ff5-8970d5c2d302",
   "metadata": {
    "tags": []
   },
   "outputs": [],
   "source": [
    "densityParamData = {\n",
    "    'MG':[4.5,5.0,5.5,6.0,6.5,\n",
    "          7.0,7.5,8.0,8.5,9.0,\n",
    "          9.5,10.0,10.5,11.0,11.5,\n",
    "          12.0,12.5,13.,13.5,14.0,\n",
    "          14.5,15.0],\n",
    "    'rho_b0':[8.822,8.922,9.046,9.190,9.358,\n",
    "              9.548,9.758,9.985,10.228,10.4848,\n",
    "              10.749,11.023,11.3035,11.588,11.877,\n",
    "              12.170,12.469,12.785,13.128,13.496,\n",
    "              13.890,14.317],\n",
    "    'Sigma0Thick':[8.262,8.262,8.262,8.262,8.262,\n",
    "                   8.262,8.262,8.262,8.262,8.262,\n",
    "                   8.262,8.263,8.280,8.340,8.465,\n",
    "                   8.694,9.070,9.582,10.189,10.856,\n",
    "                   11.559,12.282],\n",
    "    'Sigma0Thin':[8.952,8.952,8.952,8.952,8.952,\n",
    "                  8.952,8.952,8.952,8.952,8.952,\n",
    "                  8.952,8.952,8.952,8.952,8.953,\n",
    "                  8.973,9.069,9.318,9.736,10.284,\n",
    "                  10.915,11.597],\n",
    "}"
   ]
  },
  {
   "cell_type": "code",
   "execution_count": 11,
   "id": "18b152ba-f38b-4d85-aaa9-6720737902c4",
   "metadata": {
    "tags": []
   },
   "outputs": [
    {
     "data": {
      "text/plain": [
       "[4.5,\n",
       " 5.0,\n",
       " 5.5,\n",
       " 6.0,\n",
       " 6.5,\n",
       " 7.0,\n",
       " 7.5,\n",
       " 8.0,\n",
       " 8.5,\n",
       " 9.0,\n",
       " 9.5,\n",
       " 10.0,\n",
       " 10.5,\n",
       " 11.0,\n",
       " 11.5,\n",
       " 12.0,\n",
       " 12.5,\n",
       " 13.0,\n",
       " 13.5,\n",
       " 14.0,\n",
       " 14.5,\n",
       " 15.0]"
      ]
     },
     "execution_count": 11,
     "metadata": {},
     "output_type": "execute_result"
    }
   ],
   "source": [
    "densityParamData['MG']"
   ]
  },
  {
   "cell_type": "code",
   "execution_count": 42,
   "id": "f303de8c-7eeb-4a83-bc5b-cdb0fb516df5",
   "metadata": {
    "tags": []
   },
   "outputs": [],
   "source": [
    "import dbdm"
   ]
  },
  {
   "cell_type": "code",
   "execution_count": 45,
   "id": "a35447d8-5452-41b0-bc3b-fd2fcf3b96b5",
   "metadata": {
    "tags": []
   },
   "outputs": [
    {
     "data": {
      "text/plain": [
       "1934198492.13079"
      ]
     },
     "execution_count": 45,
     "metadata": {},
     "output_type": "execute_result"
    }
   ],
   "source": [
    "dbdm.galacticAreaDensity(0.9,MG=1e11)"
   ]
  },
  {
   "cell_type": "code",
   "execution_count": 51,
   "id": "2607ba1c-e3f2-41ce-814b-00cd228abf66",
   "metadata": {
    "tags": []
   },
   "outputs": [
    {
     "data": {
      "text/plain": [
       "0.9944093709074541"
      ]
     },
     "execution_count": 51,
     "metadata": {},
     "output_type": "execute_result"
    }
   ],
   "source": [
    "dbdm.galacticAreaDensity(180,MG=1e8)/dbdm.galacticAreaDensityFit((180,8))"
   ]
  },
  {
   "cell_type": "code",
   "execution_count": null,
   "id": "7d52e7b1-ae4c-41e4-b197-8aab1f527c9b",
   "metadata": {},
   "outputs": [],
   "source": []
  }
 ],
 "metadata": {
  "kernelspec": {
   "display_name": "Python 3 (ipykernel)",
   "language": "python",
   "name": "python3"
  },
  "language_info": {
   "codemirror_mode": {
    "name": "ipython",
    "version": 3
   },
   "file_extension": ".py",
   "mimetype": "text/x-python",
   "name": "python",
   "nbconvert_exporter": "python",
   "pygments_lexer": "ipython3",
   "version": "3.11.5"
  }
 },
 "nbformat": 4,
 "nbformat_minor": 5
}
