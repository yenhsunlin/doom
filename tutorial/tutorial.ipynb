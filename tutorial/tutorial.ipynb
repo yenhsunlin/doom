{
 "cells": [
  {
   "cell_type": "markdown",
   "id": "85db58c2-4d86-4175-8da7-7e1ff32172b7",
   "metadata": {
    "tags": []
   },
   "source": [
    "# Tutorial for `dukes`\n",
    "\n",
    "In this tutorial, I'll briefly go through main classes and functions that are used to evaluate the signatures of diffuse boosted dark matter yielded by the supernova neutrinos in the high-redshit galaxies from the early Universe.\n",
    "\n",
    "\n",
    "We begin with importing `dukes` and other useful packages in this tutorial. Note that `multiprocessing` is not compatible with jupyter on Mac/Windows systems.\n",
    "One can alternatively use `ipyparallel` to manifest multiprocessing feature on jupyter. This task is relegated to the user."
   ]
  },
  {
   "cell_type": "code",
   "execution_count": 34,
   "id": "1a834279-a022-4620-8760-3ff44ea24187",
   "metadata": {
    "tags": []
   },
   "outputs": [],
   "source": [
    "#import multiprocessing as mp\n",
    "#import numpy as np\n",
    "#from scipy.integrate import quad\n",
    "#import matplotlib.pyplot as plt\n",
    "from functools import partial\n",
    "#import dukes"
   ]
  },
  {
   "cell_type": "markdown",
   "id": "d4c06368-70c6-4f84-8625-31f6fc577b85",
   "metadata": {},
   "source": [
    "## Useful constants\n",
    "\n",
    "We introduce the fundamental class `constant` that is frequently inhereited by other classes in `dukes`. This class contains various physical constants and conversion factors that are commonly used in this package.\n",
    "For example the physical quantities such as electron mass $m_e$, proton mass $m_p$, neutron mass $m_n$ and the Solar mass $M_\\odot$ are expressed in MeV"
   ]
  },
  {
   "cell_type": "code",
   "execution_count": 12,
   "id": "72058908-6272-4d09-8b17-f9a71848838a",
   "metadata": {},
   "outputs": [
    {
     "data": {
      "text/plain": [
       "(0.511, 938.2, 939.5, 1.115e+60)"
      ]
     },
     "execution_count": 12,
     "metadata": {},
     "output_type": "execute_result"
    }
   ],
   "source": [
    "dukes.constant.me, dukes.constant.mp, dukes.constant.mn, dukes.constant.Msun"
   ]
  },
  {
   "cell_type": "markdown",
   "id": "7e2935a3-8e98-44fb-8d3a-6311ca424f3f",
   "metadata": {},
   "source": [
    "Conversion factors like erg to MeV, year to seconds and kiloparsec to centimeters"
   ]
  },
  {
   "cell_type": "code",
   "execution_count": 13,
   "id": "60057ad5-a247-4d14-ae02-81a391fad171",
   "metadata": {},
   "outputs": [
    {
     "data": {
      "text/plain": [
       "(624100.0, 31560000.0, 3.085e+21)"
      ]
     },
     "execution_count": 13,
     "metadata": {},
     "output_type": "execute_result"
    }
   ],
   "source": [
    "dukes.constant.erg2MeV, dukes.constant.year2Seconds, dukes.constant.kpc2cm"
   ]
  },
  {
   "cell_type": "markdown",
   "id": "942fd8f3-1817-459a-a8c5-b5cc3949d1c6",
   "metadata": {},
   "source": [
    "Other constants can be checked form the docstring of the class."
   ]
  },
  {
   "cell_type": "markdown",
   "id": "5df528ab-9b4e-4104-a631-1b0f8ef6261d",
   "metadata": {},
   "source": [
    "## Baryonic density distribution of galaxy\n",
    "\n",
    "We implement the baryonic density profile $\\rho_b(R,z)$ shown in McMillan, *MNRAS* **465**, 76 (2017) for Milky Way (MW) at given $(R,z)$ in cylindrical coordinate, where $R$ is the radius to the galactic center and $z$ the height. It is obtained from `dukes.mwDensityProfile(R,z)` as `(R,z)` are in kpc and the output is $M_\\odot\\,{\\rm kpc^{-3}}$."
   ]
  },
  {
   "cell_type": "code",
   "execution_count": 5,
   "id": "c6ad1624-d5d7-48e0-ad80-45d56ee05b13",
   "metadata": {},
   "outputs": [
    {
     "data": {
      "text/plain": [
       "1272762188.4977636"
      ]
     },
     "execution_count": 5,
     "metadata": {},
     "output_type": "execute_result"
    }
   ],
   "source": [
    "dukes.mwDensityProfile(1,0.1)"
   ]
  },
  {
   "cell_type": "markdown",
   "id": "b6a70245-6d96-4c27-8688-615513d23b9f",
   "metadata": {},
   "source": [
    "Since the height $z$ is much smaller than the radius $R$, we can further evaluate the area density by integrating out $z$ for later convenience\n",
    "$$\n",
    "\\Sigma_b(R)= 2\\int_{0}^{z_{\\rm max}} dz ~\\rho_b(R,z).\n",
    "$$\n",
    "The factor 2 is a natural consequence of symmetric $\\rho_b$ under $z\\to-z$, and $z_{\\rm max}$ is the truncation point. In principle $\\rho_b(R,z)$ varies little when $z$ is larger than a few kpc. We can safely set $z_{\\rm max}=10$ kpc."
   ]
  },
  {
   "cell_type": "code",
   "execution_count": 23,
   "id": "8971089a-627b-4575-b446-dbedc2266bf2",
   "metadata": {},
   "outputs": [],
   "source": [
    "def Sigma_b(R,zmax=10):\n",
    "    return quad(lambda z: dukes.mwDensityProfile(R,z),-zmax,zmax)[0]\n",
    "# initializing mp\n",
    "pool = mp.Pool(8)\n",
    "RList = np.logspace(-3,2,30)\n",
    "Sigma_b_data = pool.map(Sigma_b,RList)"
   ]
  },
  {
   "cell_type": "code",
   "execution_count": 25,
   "id": "e814b703-4c8f-4ed4-b8e1-d21d9710908a",
   "metadata": {},
   "outputs": [
    {
     "data": {
      "image/png": "[encoded data removed]",
      "text/plain": [
       "<Figure size 640x480 with 1 Axes>"
      ]
     },
     "metadata": {},
     "output_type": "display_data"
    }
   ],
   "source": [
    "plt.plot(RList,Sigma_b_data)\n",
    "plt.xscale('log')\n",
    "plt.title('MW Area Density')\n",
    "plt.xlabel(r'$R$ [kpc]')\n",
    "plt.ylabel(r'$\\rho_b~[M_\\odot\\,{\\rm kpc^{-2}}]$')\n",
    "plt.show()"
   ]
  },
  {
   "cell_type": "markdown",
   "id": "fd716688-fa16-4a56-bee8-6863dcc9bba5",
   "metadata": {},
   "source": [
    "For galaxies with arbitrary stellar mass $M_G$, we assume the baryonic profile still follows MW but the corresponding characteristic quantities are scaled with $M_G$. For characteristic radius, we assume it is proportional to $M_G^{1/3}$ and for density is proportional to $M_G$. All these quantities will degenerate to MW's when $M_G=M_{\\rm MW}$ where $M_{\\rm MW}$ is the MW stellar mass.\n",
    "\n",
    "The corresponding function is `dukes.galacticDensityProfile(R,z,MG)` where `(R,z,MG)` are in (kpc, kpc, $M_\\odot$) and the output is $M_\\odot\\,{\\rm kpc}^{-3}$."
   ]
  },
  {
   "cell_type": "code",
   "execution_count": 26,
   "id": "ddb6259c-937c-418e-9d9b-e56be6d57631",
   "metadata": {},
   "outputs": [
    {
     "data": {
      "text/plain": [
       "8471024.103398217"
      ]
     },
     "execution_count": 26,
     "metadata": {},
     "output_type": "execute_result"
    }
   ],
   "source": [
    "dukes.galacticDensityProfile(5.9,0.1,1e10)"
   ]
  },
  {
   "cell_type": "markdown",
   "id": "48adcb8a-b852-4c67-9412-aca982010ce1",
   "metadata": {},
   "source": [
    "We can compare with `dukes.mwDensityProfile` and found that the scaled density is smaller than the exact case and the error increase with $(R,z)$. This might seen troubling but it is not actually, as the contribution at large $(R,z)$ is small. They won't really matter when we estimate the SN position for galaxy with arbitrary $M_G$ in the later study."
   ]
  },
  {
   "cell_type": "code",
   "execution_count": 39,
   "id": "b529ac18-25b8-4c40-a089-bf6aaf8ab65b",
   "metadata": {},
   "outputs": [],
   "source": [
    "def error_compare(R,z):\n",
    "    exact = dukes.mwDensityProfile(R,z)\n",
    "    scaled = dukes.galacticDensityProfile(R,z,dukes.constant.Mmw) \n",
    "    return 100*(scaled-exact)/exact\n",
    "\n",
    "# initializing mp\n",
    "pool2 = mp.Pool(8)\n",
    "z0 = pool2.map(partial(error_compare,z=0),RList)\n",
    "z01 = pool2.map(partial(error_compare,z=0.1),RList)\n",
    "z05 = pool2.map(partial(error_compare,z=0.5),RList)\n",
    "z5 = pool2.map(partial(error_compare,z=5),RList)"
   ]
  },
  {
   "cell_type": "code",
   "execution_count": 48,
   "id": "acf7f0b9-87fc-44cf-bf1d-52d013c969ca",
   "metadata": {},
   "outputs": [
    {
     "data": {
      "image/png": "[encoded data removed]",
      "text/plain": [
       "<Figure size 640x480 with 1 Axes>"
      ]
     },
     "metadata": {},
     "output_type": "display_data"
    }
   ],
   "source": [
    "plt.plot(RList,z0,label=r'$z=0$')\n",
    "plt.plot(RList,z01,label=r'$z=0.1$')\n",
    "plt.plot(RList,z05,label=r'$z=0.5$')\n",
    "plt.plot(RList,z5,label=r'$z=5$')\n",
    "#plt.xscale('log')\n",
    "plt.legend()\n",
    "plt.xlabel(r'$R$ [kpc]')\n",
    "plt.ylabel(r'$\\frac{\\rm scaled - exact}{\\rm exact}\\times 100\\%$')\n",
    "plt.show()"
   ]
  },
  {
   "cell_type": "markdown",
   "id": "28325505-c088-4fc8-91a5-12bd586c6471",
   "metadata": {},
   "source": [
    "The area density for arbitrary $M_G$ can be evaluated by `dukes.galacticAreaDensity(R,zRange=[-10,10],MG=None)` where `R` is in kpc, `zRange` the integration for height $z$ and `MG` the galactic mass. The output is $M_\\odot\\,{\\rm kpc}^{-2}$. If `MG` is `None` then it automatically calls `dukes.mwDensityProfile`, and `dukes.galacticDensityProfile` otherwise."
   ]
  },
  {
   "cell_type": "code",
   "execution_count": 58,
   "id": "a91593e6-023d-42d8-92fd-f616cf298373",
   "metadata": {},
   "outputs": [
    {
     "data": {
      "text/plain": [
       "3164531.512063145"
      ]
     },
     "execution_count": 58,
     "metadata": {},
     "output_type": "execute_result"
    }
   ],
   "source": [
    "R,zRange,MG = 5,[-2,18],5.7e9\n",
    "dukes.galacticAreaDensity(R,zRange,MG)"
   ]
  },
  {
   "cell_type": "markdown",
   "id": "fa924040-efb1-4f84-a6c5-532e86cb82df",
   "metadata": {
    "tags": []
   },
   "source": [
    "## Dark matter halo profile"
   ]
  },
  {
   "cell_type": "markdown",
   "id": "600ca60d-189a-4e4d-b3b6-231ba332c2d3",
   "metadata": {},
   "source": [
    "##　Supernova neutrino spectrum"
   ]
  },
  {
   "cell_type": "markdown",
   "id": "82682a35-d014-4101-a159-872af31fea97",
   "metadata": {},
   "source": [
    "## DBDM flux and event evaluations"
   ]
  },
  {
   "cell_type": "markdown",
   "id": "7049b061-10f5-406c-afa7-5a39d33189cd",
   "metadata": {},
   "source": [
    "## Implementation of model-dependent differential cross section :: *experimental*"
   ]
  },
  {
   "cell_type": "code",
   "execution_count": null,
   "id": "34bac5d3-8c97-40c0-80b9-aa906f78cb5e",
   "metadata": {},
   "outputs": [],
   "source": [
    "from dukes.utils import userPhenoModelInterface"
   ]
  },
  {
   "cell_type": "code",
   "execution_count": 2,
   "id": "17cbc3a8-5262-4bd4-9e96-d2ea492366bb",
   "metadata": {
    "tags": []
   },
   "outputs": [],
   "source": [
    "file = np.load('src/bin/densityParamFit.npz')"
   ]
  },
  {
   "cell_type": "code",
   "execution_count": 12,
   "id": "d8263d80-e5c1-4461-a614-23a0b89321ee",
   "metadata": {
    "tags": []
   },
   "outputs": [],
   "source": [
    "file2 = np.load('src/bin/galcticAreaDensityFit.npz')"
   ]
  },
  {
   "cell_type": "code",
   "execution_count": 21,
   "id": "47c11035-2251-4adb-a924-e34a040bbe2f",
   "metadata": {
    "tags": []
   },
   "outputs": [],
   "source": [
    "np.savetxt('galcticAreaDensityFit.txt',file2['R'],fmt='%.3f',delimiter=\",\")"
   ]
  },
  {
   "cell_type": "code",
   "execution_count": 41,
   "id": "afaf45fa-381c-4f4f-b93a-c121ba25802a",
   "metadata": {
    "tags": []
   },
   "outputs": [],
   "source": [
    "with open(\"galcticAreaDensityFit.txt\", \"w\") as f:\n",
    "    f.write('_R_data = [')\n",
    "    for s in file2['R'].tolist():\n",
    "        f.write('{:.5e}'.format(s) +\", \")\n",
    "    f.write('] \\n\\n')\n",
    "    \n",
    "    f.write('_MG_area_data = [')\n",
    "    for s in file2['MG'].tolist():\n",
    "        f.write('{:.5e}'.format(s) +\", \")\n",
    "    f.write('] \\n\\n')\n",
    "    \n",
    "    f.write('_rho_data = [')\n",
    "    for line in file2['AreaDensity']:\n",
    "        f.write('[')\n",
    "        i = 0\n",
    "        for s in line.tolist():\n",
    "            if i != 120:\n",
    "                f.write('{:.5e}'.format(s) +\", \")\n",
    "            else:\n",
    "                f.write('{:.5e}'.format(s))\n",
    "            i+=1\n",
    "        f.write('],\\n')\n",
    "    f.write('] \\n\\n')"
   ]
  },
  {
   "cell_type": "code",
   "execution_count": 40,
   "id": "dd052f6f-3d10-4baa-897a-73115938de79",
   "metadata": {
    "tags": []
   },
   "outputs": [
    {
     "data": {
      "text/plain": [
       "121"
      ]
     },
     "execution_count": 40,
     "metadata": {},
     "output_type": "execute_result"
    }
   ],
   "source": [
    "len(file2['AreaDensity'][0])"
   ]
  },
  {
   "cell_type": "code",
   "execution_count": 4,
   "id": "baa67510-c50e-442c-a3ae-d3fad862d360",
   "metadata": {
    "tags": []
   },
   "outputs": [
    {
     "data": {
      "text/plain": [
       "4.200418880077646e-08"
      ]
     },
     "execution_count": 4,
     "metadata": {},
     "output_type": "execute_result"
    }
   ],
   "source": [
    "doom.dbdmFlux(5,1,neval=20000)"
   ]
  },
  {
   "cell_type": "code",
   "execution_count": 5,
   "id": "db014a2c-406c-440e-b503-763f0e1d39e3",
   "metadata": {
    "tags": []
   },
   "outputs": [
    {
     "data": {
      "text/plain": [
       "4.422705310516041e-08"
      ]
     },
     "execution_count": 5,
     "metadata": {},
     "output_type": "execute_result"
    }
   ],
   "source": [
    "doom.dbdmFlux(5,1,neval=50000)"
   ]
  },
  {
   "cell_type": "code",
   "execution_count": 7,
   "id": "86851147-856e-4deb-a8e6-6a6527368b80",
   "metadata": {
    "tags": []
   },
   "outputs": [
    {
     "data": {
      "text/plain": [
       "array([ 8.95223   ,  8.95223595,  8.95223594,  8.95223606,  8.95223595,\n",
       "        8.95223595,  8.95223589,  8.95223593,  8.95223593,  8.95223595,\n",
       "        8.95223594,  8.95223595,  8.95223596,  8.95225806,  8.95392236,\n",
       "        8.9737703 ,  9.06911746,  9.31833401,  9.73665309, 10.28418383,\n",
       "       10.9154326 , 11.59714772])"
      ]
     },
     "execution_count": 7,
     "metadata": {},
     "output_type": "execute_result"
    }
   ],
   "source": [
    "file['Sigma0Thin']"
   ]
  },
  {
   "cell_type": "code",
   "execution_count": 10,
   "id": "68e33e77-378c-421f-8ff5-8970d5c2d302",
   "metadata": {
    "tags": []
   },
   "outputs": [],
   "source": [
    "densityParamData = {\n",
    "    'MG':[4.5,5.0,5.5,6.0,6.5,\n",
    "          7.0,7.5,8.0,8.5,9.0,\n",
    "          9.5,10.0,10.5,11.0,11.5,\n",
    "          12.0,12.5,13.,13.5,14.0,\n",
    "          14.5,15.0],\n",
    "    'rho_b0':[8.822,8.922,9.046,9.190,9.358,\n",
    "              9.548,9.758,9.985,10.228,10.4848,\n",
    "              10.749,11.023,11.3035,11.588,11.877,\n",
    "              12.170,12.469,12.785,13.128,13.496,\n",
    "              13.890,14.317],\n",
    "    'Sigma0Thick':[8.262,8.262,8.262,8.262,8.262,\n",
    "                   8.262,8.262,8.262,8.262,8.262,\n",
    "                   8.262,8.263,8.280,8.340,8.465,\n",
    "                   8.694,9.070,9.582,10.189,10.856,\n",
    "                   11.559,12.282],\n",
    "    'Sigma0Thin':[8.952,8.952,8.952,8.952,8.952,\n",
    "                  8.952,8.952,8.952,8.952,8.952,\n",
    "                  8.952,8.952,8.952,8.952,8.953,\n",
    "                  8.973,9.069,9.318,9.736,10.284,\n",
    "                  10.915,11.597],\n",
    "}"
   ]
  },
  {
   "cell_type": "code",
   "execution_count": 11,
   "id": "18b152ba-f38b-4d85-aaa9-6720737902c4",
   "metadata": {
    "tags": []
   },
   "outputs": [
    {
     "data": {
      "text/plain": [
       "[4.5,\n",
       " 5.0,\n",
       " 5.5,\n",
       " 6.0,\n",
       " 6.5,\n",
       " 7.0,\n",
       " 7.5,\n",
       " 8.0,\n",
       " 8.5,\n",
       " 9.0,\n",
       " 9.5,\n",
       " 10.0,\n",
       " 10.5,\n",
       " 11.0,\n",
       " 11.5,\n",
       " 12.0,\n",
       " 12.5,\n",
       " 13.0,\n",
       " 13.5,\n",
       " 14.0,\n",
       " 14.5,\n",
       " 15.0]"
      ]
     },
     "execution_count": 11,
     "metadata": {},
     "output_type": "execute_result"
    }
   ],
   "source": [
    "densityParamData['MG']"
   ]
  },
  {
   "cell_type": "code",
   "execution_count": 42,
   "id": "f303de8c-7eeb-4a83-bc5b-cdb0fb516df5",
   "metadata": {
    "tags": []
   },
   "outputs": [],
   "source": [
    "import dbdm"
   ]
  },
  {
   "cell_type": "code",
   "execution_count": 45,
   "id": "a35447d8-5452-41b0-bc3b-fd2fcf3b96b5",
   "metadata": {
    "tags": []
   },
   "outputs": [
    {
     "data": {
      "text/plain": [
       "1934198492.13079"
      ]
     },
     "execution_count": 45,
     "metadata": {},
     "output_type": "execute_result"
    }
   ],
   "source": [
    "dbdm.galacticAreaDensity(0.9,MG=1e11)"
   ]
  },
  {
   "cell_type": "code",
   "execution_count": 51,
   "id": "2607ba1c-e3f2-41ce-814b-00cd228abf66",
   "metadata": {
    "tags": []
   },
   "outputs": [
    {
     "data": {
      "text/plain": [
       "0.9944093709074541"
      ]
     },
     "execution_count": 51,
     "metadata": {},
     "output_type": "execute_result"
    }
   ],
   "source": [
    "dbdm.galacticAreaDensity(180,MG=1e8)/dbdm.galacticAreaDensityFit((180,8))"
   ]
  },
  {
   "cell_type": "code",
   "execution_count": null,
   "id": "7d52e7b1-ae4c-41e4-b197-8aab1f527c9b",
   "metadata": {},
   "outputs": [],
   "source": []
  }
 ],
 "metadata": {
  "kernelspec": {
   "display_name": "Python 3 (ipykernel)",
   "language": "python",
   "name": "python3"
  },
  "language_info": {
   "codemirror_mode": {
    "name": "ipython",
    "version": 3
   },
   "file_extension": ".py",
   "mimetype": "text/x-python",
   "name": "python",
   "nbconvert_exporter": "python",
   "pygments_lexer": "ipython3",
   "version": "3.11.7"
  }
 },
 "nbformat": 4,
 "nbformat_minor": 5
}
