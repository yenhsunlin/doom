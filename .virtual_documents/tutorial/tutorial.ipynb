


# import complete modules from packages
import multiprocessing as mp
import numpy as np

import dukes
print(f'Current version of dukes: {dukes.__version__}')

import matplotlib.pyplot as plt

# import only necessary modules from packages
from functools import partial
from scipy.integrate import quad

# uncomment this if you have a Hi-DPI monitor and wish to have a better figure resolution
#%matplotlib inline
#%config InlineBackend.figure_format='retina'





dukes.constant.me, dukes.constant.mp, dukes.constant.mn, dukes.constant.Msun





dukes.constant.erg2MeV, dukes.constant.year2Seconds, dukes.constant.kpc2cm








dukes.mwDensityProfile(1,0.1)





def Sigma_b(R,zmax=10):
    return quad(lambda z: dukes.mwDensityProfile(R,z),-zmax,zmax)[0]
# initializing mp
pool = mp.Pool(8)
RList = np.logspace(-3,2,30)
Sigma_b_data = pool.map(Sigma_b,RList)


plt.plot(RList,Sigma_b_data)
plt.xscale('log')
plt.title('MW Area Density')
plt.xlabel(r'$R$ [kpc]')
plt.ylabel(r'$\rho_b~[M_\odot\,{\rm kpc^{-2}}]$')
plt.show()





dukes.galacticDensityProfile(5.9,0.1,1e10)





RList = np.logspace(-3,2,50)
rhob_MW_exact_z0 = []
rhob_MW_scaled_z0 = []
rhob_MW_exact_z01 = []
rhob_MW_scaled_z01 = []
rhob_MW_exact_z5 = []
rhob_MW_scaled_z5 = []
for R in RList:
    rhob_MW_exact_z0.append(dukes.mwDensityProfile(R,0))
    rhob_MW_scaled_z0.append(dukes.galacticDensityProfile(R,0,MG=dukes.constant.Mmw))
    rhob_MW_exact_z01.append(dukes.mwDensityProfile(R,0.1))
    rhob_MW_scaled_z01.append(dukes.galacticDensityProfile(R,0.1,MG=dukes.constant.Mmw))
    rhob_MW_exact_z5.append(dukes.mwDensityProfile(R,5))
    rhob_MW_scaled_z5.append(dukes.galacticDensityProfile(R,5,MG=dukes.constant.Mmw))


plt.plot(RList,rhob_MW_exact_z0,color='C0',label=r'$z=0$')
plt.plot(RList,rhob_MW_scaled_z0,'--',color='C0')
plt.plot(RList,rhob_MW_exact_z01,color='C1',label=r'$z=0.1$ kpc')
plt.plot(RList,rhob_MW_scaled_z01,'--',color='C1')
plt.plot(RList,rhob_MW_exact_z5,color='C2',label=r'$z=5$ kpc')
plt.plot(RList,rhob_MW_scaled_z5,'--',color='C2')
# for legend plot
plt.plot([1,10],[-1,-1],'k',label='exact')
plt.plot([1,10],[-1,-1],'k--',label='scaled')

plt.title(r'MW baryonic density profile at different galactic height $z$')
plt.xscale('log')
plt.yscale('log')
plt.ylim(3500,3e11)
plt.legend(ncols=2)
plt.xlabel(r'$R$ [kpc]')
plt.ylabel(r'$\rho_b^{\rm MW}(R)~[M_\odot\,{\rm kpc}^{-3}]$ ')
plt.show()





R,zRange,MG = 5,[-2,18],5.7e9
dukes.galacticAreaDensity(R,zRange,MG)








mx = 1e-3
rList = np.logspace(-3,2,50)
mwNFW_exact = []
mwNFW_scaled = []
for r in rList:
    mwNFW_exact.append(dukes.nxNFW(r,mx))
    mwNFW_scaled.append(dukes.nxNFW(r,mx,MG=dukes.constant.Mmw))


plt.plot(rList,mwNFW_exact,label='exact MW NFW')
plt.plot(rList,mwNFW_scaled,'.',label='scaled MW NFW')
plt.xscale('log')
plt.yscale('log')
plt.legend()
plt.title(r'$m_\chi = 1$ MeV')
plt.xlabel(r'$r$ [kpc]')
plt.ylabel(r'$n_\chi(r)~[{\rm cm}^{-3}]$')
plt.show()





mx = 1
Mmw = dukes.constant.Mmw
rList = np.logspace(-7,2,50)
rhoxNFW_sigv0 = []
rhoxNFW_sigv3 = []
rhoxNFW_nospike = []
for r in rList:
    rhoxNFW_sigv0.append(dukes.dmNumberDensity(r,mx,MG=Mmw,is_spike=True,sigv=None)*mx)
    rhoxNFW_sigv3.append(dukes.dmNumberDensity(r,mx,MG=Mmw,is_spike=True,sigv=3)*mx)
    rhoxNFW_nospike.append(dukes.dmNumberDensity(r,mx,MG=Mmw,is_spike=False)*mx)  # sigv has no effect whatever value you set


plt.plot(rList,rhoxNFW_sigv0,color='C0',label=r'$\langle \sigma v\rangle$=0')
plt.plot(rList,rhoxNFW_sigv3,'--',color='C0',label=r'$\langle \sigma v\rangle=3\times 10^{-26}~{\rm cm^3\,s^{-1}}$')
plt.plot(rList,rhoxNFW_nospike,'-.',color='C0',label='w/o spike')
plt.xscale('log')
plt.yscale('log')
plt.legend()
plt.title(r'$m_\chi = 1$ MeV')
plt.xlabel(r'$r$ [kpc]')
plt.ylabel(r'$\rho_\chi^{\rm MW}(r)~[{\rm MeV\,cm}^{-3}]$')
plt.show()





mx = 1e-2
TxList = np.linspace(1,49,25)
pool = mp.Pool(10)
flux_sigv0 = pool.map(partial(dukes.flux,mx=mx,neval=50000),TxList)
flux_sigv3 = pool.map(partial(dukes.flux,mx=mx,sigv=3,neval=50000),TxList)
flux_nospike = pool.map(partial(dukes.flux,mx=mx,is_spike=False,neval=20000),TxList)


plt.plot(TxList,np.array(flux_sigv0)*5*dukes.constant.year2Seconds,label=r'w/t spike $\langle \sigma v\rangle=0$')
plt.plot(TxList,np.array(flux_sigv3)*5*dukes.constant.year2Seconds,'--',color='C0',label=r'w/t spike $\langle \sigma v\rangle=3$')
plt.plot(TxList,np.array(flux_nospike)*5*dukes.constant.year2Seconds,color='C1',label=r'w/o spike')
plt.yscale('log')
plt.legend()
plt.title(r'$t_{\rm exp}=5$ years')
plt.xlabel(r'$T_\chi$ [MeV]')
plt.ylabel(r'Fluence [MeV$^{-1}$ cm$^{-2}$]')
plt.show()





# Evaluating DBDM event
mx = 1e-2
E_sigv0 = dukes.event(mx=mx,TxRange=[5,30],neval=50000)
E_sigv3 = dukes.event(mx=mx,TxRange=[5,30],sigv=3,neval=50000)
E_nospike = dukes.event(mx=mx,TxRange=[5,30],is_spike=False,neval=20000)

Ne = 3e34
texp = 5*dukes.constant.year2Seconds
print(f'N_DBDM in Hyper-K in 5-year exposure are {E_sigv0*Ne*texp:.2f} for sigv=0, {E_sigv3*Ne*texp:.2f} for sigv=3, and {E_nospike*Ne*texp:.2f} for no spike.')








from dukes.utils import userPhenoModelInterface





# Kallen lambda
_lambda = lambda x,y,z: x**2 + y**2 + z**2 - 2*(x*y + y*z + x*z)

# amplitude-square
# Note that Q is simply a constant and can be factored out
def amplitude2(s,t,u,m1,m2,mV):
    return 2*(s**2 + u**2 + 4*t*(m1**2 + m2**2) - 2*(m1**2 + m2**2)**2)/(t - mV**2)**2

# convert 1/MeV**2 to cm**2
to_cm2 = (1.973e-11)**2

# xv
def func1(Ev,mx,theta) -> float:   # the inputs are positioning arguments and the order is strict
    s = mx**2 + 2*Ev*mx
    Evcm2 = (s - mx**2)**2/4/s
    pvcm2 = _lambda(s,0,mx**2)/4/s
    t = -2*(Evcm2 - pvcm2)
    u = 2*mx**2 - s - t
    M2 = amplitude2(s,t,u,m1=0,m2=mx,mV=mx)    # assuming massless neutrino and mV = mx
    diffcrox = M2/64/np.pi**2/s*to_cm2
    return diffcrox

# xe
def func2(Tx,mx,theta) -> float:   # the inputs are positioning arguments and the order is strict
    me = dukes.constant.me
    Ex = Tx + mx    # reconstruct Ex from Tx and mx
    s = mx**2 + me**2 + 2*Ex*me
    Excm2 = (s + mx**2 - me**2)**2/4/s
    pxcm2 = _lambda(s,mx**2,me**2)/4/s
    t = -2*(Excm2 - pxcm2)
    u = 2*(mx**2 + me**2) - s - t
    M2 = amplitude2(s,t,u,m1=mx,m2=me,mV=mx)    # assuming mV = mx
    diffcrox = M2/64/np.pi**2/s*to_cm2
    return diffcrox





gV,gx = 1e-9,1e-2
Qv = gV*gx
func1(10,1e-3,0)*Qv**2  # cm^2





myOwnModel = userPhenoModelInterface(func1,func2)





Tx,mx = 10,1e-3
dbdmFlux = myOwnModel.flux(Tx=Tx,mx=mx,neval=50000)
dbdmEvent = myOwnModel.event(mx=mx,neval=50000)





dbdmFlux *= Qv**2
print(f'The DBDM flux is {dbdmFlux} per MeV per cm^2 per s at Tx = 10 MeV')





eps = gV
Qe = gx*eps*np.sqrt(4*np.pi/137)
dbdmEvent *= Qv**2*Qe**2
print(f'The DBDM event is {dbdmEvent} per electron per s')





dbdmEvent_in_HK = dbdmEvent*3e34
print(f'HK would measure {dbdmEvent_in_HK} DBDM events per second given such setup')



